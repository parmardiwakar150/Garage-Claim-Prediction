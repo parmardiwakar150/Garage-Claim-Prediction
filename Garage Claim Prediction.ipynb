{
 "cells": [
  {
   "cell_type": "code",
   "execution_count": 1,
   "metadata": {},
   "outputs": [],
   "source": [
    "import numpy as np\n",
    "import pandas as pd\n",
    "import matplotlib.pyplot as plt\n",
    "import seaborn as sns\n",
    "import warnings\n",
    "warnings.filterwarnings('ignore')\n",
    "%matplotlib inline"
   ]
  },
  {
   "cell_type": "code",
   "execution_count": 2,
   "metadata": {},
   "outputs": [],
   "source": [
    "data_feb = pd.read_excel('Mplus Claim FEB-2018.xlsx')\n",
    "data_mar = pd.read_excel('Mplus Claim MAR-18.xlsx')\n",
    "data_jan = pd.read_excel('Claims JAN-2018.xlsx')\n",
    "data_dec = pd.read_excel('Claim DEC-2017.xlsx')\n",
    "data_nov = pd.read_excel('Claims NOV-2017.xlsx')\n",
    "data_oct = pd.read_excel('claims OCT-2017.xlsx')"
   ]
  },
  {
   "cell_type": "code",
   "execution_count": 5,
   "metadata": {},
   "outputs": [],
   "source": [
    "df = data_feb[['PartID', 'SubPartID','PartTypeID', 'ModelID', 'EstimatePartRate', 'EstimateRRAmt', 'EstimateDentingAmt', 'EstimatePaintingAmt', 'GarageID', 'GarageStateID', 'GarageCityID', 'ClaimRefNo']]"
   ]
  },
  {
   "cell_type": "code",
   "execution_count": 7,
   "metadata": {},
   "outputs": [],
   "source": [
    "dm = data_mar[['PartID', 'SubPartID','PartTypeID', 'ModelID', 'EstimatePartRate', 'EstimateRRAmt', 'EstimateDentingAmt', 'EstimatePaintingAmt', 'GarageID', 'GarageStateID', 'GarageCityID', 'ClaimRefNo']]"
   ]
  },
  {
   "cell_type": "code",
   "execution_count": 8,
   "metadata": {},
   "outputs": [],
   "source": [
    "dj = data_jan[['PartID', 'SubPartID','PartTypeID', 'ModelID', 'EstimatePartRate', 'EstimateRRAmt', 'EstimateDentingAmt', 'EstimatePaintingAmt', 'GarageID', 'GarageStateID', 'GarageCityID', 'ClaimRefNo']]"
   ]
  },
  {
   "cell_type": "code",
   "execution_count": 9,
   "metadata": {},
   "outputs": [],
   "source": [
    "dd = data_dec[['PartID', 'SubPartID','PartTypeID', 'ModelID', 'EstimatePartRate', 'EstimateRRAmt', 'EstimateDentingAmt', 'EstimatePaintingAmt', 'GarageID', 'GarageStateID', 'GarageCityID', 'ClaimRefNo']]"
   ]
  },
  {
   "cell_type": "code",
   "execution_count": 10,
   "metadata": {},
   "outputs": [],
   "source": [
    "dn = data_nov[['PartID', 'SubPartID','PartTypeID', 'ModelID', 'EstimatePartRate', 'EstimateRRAmt', 'EstimateDentingAmt', 'EstimatePaintingAmt', 'GarageID', 'GarageStateID', 'GarageCityID', 'ClaimRefNo']]"
   ]
  },
  {
   "cell_type": "code",
   "execution_count": 11,
   "metadata": {},
   "outputs": [],
   "source": [
    "do = data_oct[['PartID', 'SubPartID','PartTypeID', 'ModelID', 'EstimatePartRate', 'EstimateRRAmt', 'EstimateDentingAmt', 'EstimatePaintingAmt', 'GarageID', 'GarageStateID', 'GarageCityID', 'ClaimRefNo']]"
   ]
  },
  {
   "cell_type": "code",
   "execution_count": 12,
   "metadata": {},
   "outputs": [],
   "source": [
    "data = df.append(dm).append(dj).append(dd).append(dn).append(do)"
   ]
  },
  {
   "cell_type": "code",
   "execution_count": 13,
   "metadata": {},
   "outputs": [
    {
     "name": "stdout",
     "output_type": "stream",
     "text": [
      "<class 'pandas.core.frame.DataFrame'>\n",
      "Int64Index: 1310674 entries, 0 to 175556\n",
      "Data columns (total 12 columns):\n",
      "PartID                 1310674 non-null int64\n",
      "SubPartID              1310674 non-null int64\n",
      "PartTypeID             1310674 non-null int64\n",
      "ModelID                1308390 non-null float64\n",
      "EstimatePartRate       1310459 non-null float64\n",
      "EstimateRRAmt          1310459 non-null float64\n",
      "EstimateDentingAmt     1310459 non-null float64\n",
      "EstimatePaintingAmt    1310459 non-null float64\n",
      "GarageID               1310674 non-null int64\n",
      "GarageStateID          1310674 non-null int64\n",
      "GarageCityID           1310674 non-null int64\n",
      "ClaimRefNo             1310674 non-null int64\n",
      "dtypes: float64(5), int64(7)\n",
      "memory usage: 130.0 MB\n"
     ]
    }
   ],
   "source": [
    "data.info()"
   ]
  },
  {
   "cell_type": "code",
   "execution_count": 14,
   "metadata": {},
   "outputs": [],
   "source": [
    "data = data[pd.isna(data.ModelID) == False]"
   ]
  },
  {
   "cell_type": "code",
   "execution_count": 15,
   "metadata": {},
   "outputs": [
    {
     "name": "stdout",
     "output_type": "stream",
     "text": [
      "<class 'pandas.core.frame.DataFrame'>\n",
      "Int64Index: 1308390 entries, 0 to 175556\n",
      "Data columns (total 12 columns):\n",
      "PartID                 1308390 non-null int64\n",
      "SubPartID              1308390 non-null int64\n",
      "PartTypeID             1308390 non-null int64\n",
      "ModelID                1308390 non-null float64\n",
      "EstimatePartRate       1308175 non-null float64\n",
      "EstimateRRAmt          1308175 non-null float64\n",
      "EstimateDentingAmt     1308175 non-null float64\n",
      "EstimatePaintingAmt    1308175 non-null float64\n",
      "GarageID               1308390 non-null int64\n",
      "GarageStateID          1308390 non-null int64\n",
      "GarageCityID           1308390 non-null int64\n",
      "ClaimRefNo             1308390 non-null int64\n",
      "dtypes: float64(5), int64(7)\n",
      "memory usage: 129.8 MB\n"
     ]
    }
   ],
   "source": [
    "data.info()"
   ]
  },
  {
   "cell_type": "code",
   "execution_count": 16,
   "metadata": {},
   "outputs": [],
   "source": [
    "data = data.fillna(data.mean())"
   ]
  },
  {
   "cell_type": "code",
   "execution_count": 17,
   "metadata": {},
   "outputs": [
    {
     "name": "stdout",
     "output_type": "stream",
     "text": [
      "<class 'pandas.core.frame.DataFrame'>\n",
      "Int64Index: 1308390 entries, 0 to 175556\n",
      "Data columns (total 12 columns):\n",
      "PartID                 1308390 non-null int64\n",
      "SubPartID              1308390 non-null int64\n",
      "PartTypeID             1308390 non-null int64\n",
      "ModelID                1308390 non-null float64\n",
      "EstimatePartRate       1308390 non-null float64\n",
      "EstimateRRAmt          1308390 non-null float64\n",
      "EstimateDentingAmt     1308390 non-null float64\n",
      "EstimatePaintingAmt    1308390 non-null float64\n",
      "GarageID               1308390 non-null int64\n",
      "GarageStateID          1308390 non-null int64\n",
      "GarageCityID           1308390 non-null int64\n",
      "ClaimRefNo             1308390 non-null int64\n",
      "dtypes: float64(5), int64(7)\n",
      "memory usage: 129.8 MB\n"
     ]
    }
   ],
   "source": [
    "data.info()"
   ]
  },
  {
   "cell_type": "code",
   "execution_count": 18,
   "metadata": {},
   "outputs": [
    {
     "data": {
      "text/html": [
       "<div>\n",
       "<style scoped>\n",
       "    .dataframe tbody tr th:only-of-type {\n",
       "        vertical-align: middle;\n",
       "    }\n",
       "\n",
       "    .dataframe tbody tr th {\n",
       "        vertical-align: top;\n",
       "    }\n",
       "\n",
       "    .dataframe thead th {\n",
       "        text-align: right;\n",
       "    }\n",
       "</style>\n",
       "<table border=\"1\" class=\"dataframe\">\n",
       "  <thead>\n",
       "    <tr style=\"text-align: right;\">\n",
       "      <th></th>\n",
       "      <th>PartID</th>\n",
       "      <th>SubPartID</th>\n",
       "      <th>PartTypeID</th>\n",
       "      <th>ModelID</th>\n",
       "      <th>EstimatePartRate</th>\n",
       "      <th>EstimateRRAmt</th>\n",
       "      <th>EstimateDentingAmt</th>\n",
       "      <th>EstimatePaintingAmt</th>\n",
       "      <th>GarageID</th>\n",
       "      <th>GarageStateID</th>\n",
       "      <th>GarageCityID</th>\n",
       "      <th>ClaimRefNo</th>\n",
       "    </tr>\n",
       "  </thead>\n",
       "  <tbody>\n",
       "    <tr>\n",
       "      <th>0</th>\n",
       "      <td>2</td>\n",
       "      <td>12</td>\n",
       "      <td>256</td>\n",
       "      <td>395.0</td>\n",
       "      <td>51.0</td>\n",
       "      <td>0.0</td>\n",
       "      <td>0.0</td>\n",
       "      <td>0.0</td>\n",
       "      <td>29342127</td>\n",
       "      <td>32</td>\n",
       "      <td>387522</td>\n",
       "      <td>3117177910</td>\n",
       "    </tr>\n",
       "    <tr>\n",
       "      <th>1</th>\n",
       "      <td>100</td>\n",
       "      <td>1617</td>\n",
       "      <td>256</td>\n",
       "      <td>180.0</td>\n",
       "      <td>60.0</td>\n",
       "      <td>0.0</td>\n",
       "      <td>0.0</td>\n",
       "      <td>0.0</td>\n",
       "      <td>71542666</td>\n",
       "      <td>18</td>\n",
       "      <td>178089</td>\n",
       "      <td>3118013934</td>\n",
       "    </tr>\n",
       "    <tr>\n",
       "      <th>2</th>\n",
       "      <td>80</td>\n",
       "      <td>1251</td>\n",
       "      <td>256</td>\n",
       "      <td>192.0</td>\n",
       "      <td>82.0</td>\n",
       "      <td>0.0</td>\n",
       "      <td>0.0</td>\n",
       "      <td>0.0</td>\n",
       "      <td>1876</td>\n",
       "      <td>17</td>\n",
       "      <td>540312</td>\n",
       "      <td>3118016068</td>\n",
       "    </tr>\n",
       "    <tr>\n",
       "      <th>3</th>\n",
       "      <td>159</td>\n",
       "      <td>2454</td>\n",
       "      <td>256</td>\n",
       "      <td>114.0</td>\n",
       "      <td>976.0</td>\n",
       "      <td>100.0</td>\n",
       "      <td>0.0</td>\n",
       "      <td>0.0</td>\n",
       "      <td>62956237</td>\n",
       "      <td>15</td>\n",
       "      <td>134902</td>\n",
       "      <td>3118024644</td>\n",
       "    </tr>\n",
       "    <tr>\n",
       "      <th>4</th>\n",
       "      <td>87</td>\n",
       "      <td>1360</td>\n",
       "      <td>257</td>\n",
       "      <td>114.0</td>\n",
       "      <td>4642.0</td>\n",
       "      <td>1000.0</td>\n",
       "      <td>0.0</td>\n",
       "      <td>0.0</td>\n",
       "      <td>1156</td>\n",
       "      <td>27</td>\n",
       "      <td>540843</td>\n",
       "      <td>3118025337</td>\n",
       "    </tr>\n",
       "  </tbody>\n",
       "</table>\n",
       "</div>"
      ],
      "text/plain": [
       "   PartID  SubPartID  PartTypeID  ModelID  EstimatePartRate  EstimateRRAmt  \\\n",
       "0       2         12         256    395.0              51.0            0.0   \n",
       "1     100       1617         256    180.0              60.0            0.0   \n",
       "2      80       1251         256    192.0              82.0            0.0   \n",
       "3     159       2454         256    114.0             976.0          100.0   \n",
       "4      87       1360         257    114.0            4642.0         1000.0   \n",
       "\n",
       "   EstimateDentingAmt  EstimatePaintingAmt  GarageID  GarageStateID  \\\n",
       "0                 0.0                  0.0  29342127             32   \n",
       "1                 0.0                  0.0  71542666             18   \n",
       "2                 0.0                  0.0      1876             17   \n",
       "3                 0.0                  0.0  62956237             15   \n",
       "4                 0.0                  0.0      1156             27   \n",
       "\n",
       "   GarageCityID  ClaimRefNo  \n",
       "0        387522  3117177910  \n",
       "1        178089  3118013934  \n",
       "2        540312  3118016068  \n",
       "3        134902  3118024644  \n",
       "4        540843  3118025337  "
      ]
     },
     "execution_count": 18,
     "metadata": {},
     "output_type": "execute_result"
    }
   ],
   "source": [
    "data.head()"
   ]
  },
  {
   "cell_type": "code",
   "execution_count": 19,
   "metadata": {},
   "outputs": [],
   "source": [
    "data['TotalClaimAmt'] = data.EstimateDentingAmt + data.EstimatePaintingAmt + data.EstimatePartRate + data.EstimateRRAmt"
   ]
  },
  {
   "cell_type": "code",
   "execution_count": 21,
   "metadata": {},
   "outputs": [
    {
     "data": {
      "text/html": [
       "<div>\n",
       "<style scoped>\n",
       "    .dataframe tbody tr th:only-of-type {\n",
       "        vertical-align: middle;\n",
       "    }\n",
       "\n",
       "    .dataframe tbody tr th {\n",
       "        vertical-align: top;\n",
       "    }\n",
       "\n",
       "    .dataframe thead th {\n",
       "        text-align: right;\n",
       "    }\n",
       "</style>\n",
       "<table border=\"1\" class=\"dataframe\">\n",
       "  <thead>\n",
       "    <tr style=\"text-align: right;\">\n",
       "      <th></th>\n",
       "      <th>PartID</th>\n",
       "      <th>SubPartID</th>\n",
       "      <th>PartTypeID</th>\n",
       "      <th>ModelID</th>\n",
       "      <th>EstimatePartRate</th>\n",
       "      <th>EstimateRRAmt</th>\n",
       "      <th>EstimateDentingAmt</th>\n",
       "      <th>EstimatePaintingAmt</th>\n",
       "      <th>GarageID</th>\n",
       "      <th>GarageStateID</th>\n",
       "      <th>GarageCityID</th>\n",
       "      <th>ClaimRefNo</th>\n",
       "      <th>TotalClaimAmt</th>\n",
       "    </tr>\n",
       "  </thead>\n",
       "  <tbody>\n",
       "    <tr>\n",
       "      <th>0</th>\n",
       "      <td>2</td>\n",
       "      <td>12</td>\n",
       "      <td>256</td>\n",
       "      <td>395.0</td>\n",
       "      <td>51.0</td>\n",
       "      <td>0.0</td>\n",
       "      <td>0.0</td>\n",
       "      <td>0.0</td>\n",
       "      <td>29342127</td>\n",
       "      <td>32</td>\n",
       "      <td>387522</td>\n",
       "      <td>3117177910</td>\n",
       "      <td>51.0</td>\n",
       "    </tr>\n",
       "    <tr>\n",
       "      <th>1</th>\n",
       "      <td>100</td>\n",
       "      <td>1617</td>\n",
       "      <td>256</td>\n",
       "      <td>180.0</td>\n",
       "      <td>60.0</td>\n",
       "      <td>0.0</td>\n",
       "      <td>0.0</td>\n",
       "      <td>0.0</td>\n",
       "      <td>71542666</td>\n",
       "      <td>18</td>\n",
       "      <td>178089</td>\n",
       "      <td>3118013934</td>\n",
       "      <td>60.0</td>\n",
       "    </tr>\n",
       "    <tr>\n",
       "      <th>2</th>\n",
       "      <td>80</td>\n",
       "      <td>1251</td>\n",
       "      <td>256</td>\n",
       "      <td>192.0</td>\n",
       "      <td>82.0</td>\n",
       "      <td>0.0</td>\n",
       "      <td>0.0</td>\n",
       "      <td>0.0</td>\n",
       "      <td>1876</td>\n",
       "      <td>17</td>\n",
       "      <td>540312</td>\n",
       "      <td>3118016068</td>\n",
       "      <td>82.0</td>\n",
       "    </tr>\n",
       "    <tr>\n",
       "      <th>3</th>\n",
       "      <td>159</td>\n",
       "      <td>2454</td>\n",
       "      <td>256</td>\n",
       "      <td>114.0</td>\n",
       "      <td>976.0</td>\n",
       "      <td>100.0</td>\n",
       "      <td>0.0</td>\n",
       "      <td>0.0</td>\n",
       "      <td>62956237</td>\n",
       "      <td>15</td>\n",
       "      <td>134902</td>\n",
       "      <td>3118024644</td>\n",
       "      <td>1076.0</td>\n",
       "    </tr>\n",
       "    <tr>\n",
       "      <th>4</th>\n",
       "      <td>87</td>\n",
       "      <td>1360</td>\n",
       "      <td>257</td>\n",
       "      <td>114.0</td>\n",
       "      <td>4642.0</td>\n",
       "      <td>1000.0</td>\n",
       "      <td>0.0</td>\n",
       "      <td>0.0</td>\n",
       "      <td>1156</td>\n",
       "      <td>27</td>\n",
       "      <td>540843</td>\n",
       "      <td>3118025337</td>\n",
       "      <td>5642.0</td>\n",
       "    </tr>\n",
       "  </tbody>\n",
       "</table>\n",
       "</div>"
      ],
      "text/plain": [
       "   PartID  SubPartID  PartTypeID  ModelID  EstimatePartRate  EstimateRRAmt  \\\n",
       "0       2         12         256    395.0              51.0            0.0   \n",
       "1     100       1617         256    180.0              60.0            0.0   \n",
       "2      80       1251         256    192.0              82.0            0.0   \n",
       "3     159       2454         256    114.0             976.0          100.0   \n",
       "4      87       1360         257    114.0            4642.0         1000.0   \n",
       "\n",
       "   EstimateDentingAmt  EstimatePaintingAmt  GarageID  GarageStateID  \\\n",
       "0                 0.0                  0.0  29342127             32   \n",
       "1                 0.0                  0.0  71542666             18   \n",
       "2                 0.0                  0.0      1876             17   \n",
       "3                 0.0                  0.0  62956237             15   \n",
       "4                 0.0                  0.0      1156             27   \n",
       "\n",
       "   GarageCityID  ClaimRefNo  TotalClaimAmt  \n",
       "0        387522  3117177910           51.0  \n",
       "1        178089  3118013934           60.0  \n",
       "2        540312  3118016068           82.0  \n",
       "3        134902  3118024644         1076.0  \n",
       "4        540843  3118025337         5642.0  "
      ]
     },
     "execution_count": 21,
     "metadata": {},
     "output_type": "execute_result"
    }
   ],
   "source": [
    "data.head()"
   ]
  },
  {
   "cell_type": "code",
   "execution_count": 22,
   "metadata": {},
   "outputs": [],
   "source": [
    "X = data[['PartID', 'SubPartID', 'PartTypeID', 'ModelID', 'GarageID', 'GarageStateID', 'GarageCityID']]"
   ]
  },
  {
   "cell_type": "code",
   "execution_count": 23,
   "metadata": {},
   "outputs": [],
   "source": [
    "y = data.TotalClaimAmt"
   ]
  },
  {
   "cell_type": "code",
   "execution_count": 24,
   "metadata": {},
   "outputs": [],
   "source": [
    "X.PartID = X.PartID.astype('category')\n",
    "X.SubPartID = X.SubPartID.astype('category')\n",
    "X.PartTypeID = X.PartTypeID.astype('category')\n",
    "X.ModelID = X.ModelID.astype('category')\n",
    "X.GarageID = X.GarageID.astype('category')\n",
    "X.GarageStateID = X.GarageStateID.astype('category')\n",
    "X.GarageCityID = X.GarageCityID.astype('category')"
   ]
  },
  {
   "cell_type": "code",
   "execution_count": 26,
   "metadata": {},
   "outputs": [],
   "source": [
    "from sklearn.cross_validation import train_test_split\n",
    "from sklearn.preprocessing import StandardScaler"
   ]
  },
  {
   "cell_type": "code",
   "execution_count": 27,
   "metadata": {},
   "outputs": [],
   "source": [
    " X = StandardScaler().fit_transform(X)"
   ]
  },
  {
   "cell_type": "code",
   "execution_count": 28,
   "metadata": {},
   "outputs": [],
   "source": [
    "X_train, X_test, y_train, y_test = train_test_split(X, y, test_size = 0.1)"
   ]
  },
  {
   "cell_type": "code",
   "execution_count": 29,
   "metadata": {},
   "outputs": [],
   "source": [
    "from sklearn.tree import DecisionTreeRegressor\n",
    "from lightgbm import LGBMRegressor\n",
    "from sklearn.ensemble import RandomForestRegressor\n",
    "from sklearn.ensemble import BaggingRegressor"
   ]
  },
  {
   "cell_type": "code",
   "execution_count": 65,
   "metadata": {},
   "outputs": [],
   "source": [
    "tree_model = DecisionTreeRegressor(criterion='mae')\n",
    "lgb_model = LGBMRegressor(n_estimators=10000)\n",
    "forest_model = RandomForestRegressor(n_estimators=100)\n",
    "bag_model = BaggingRegressor(n_estimators=100,n_jobs= -1)"
   ]
  },
  {
   "cell_type": "code",
   "execution_count": null,
   "metadata": {},
   "outputs": [],
   "source": [
    "tree_model.fit(X_train,y_train)\n",
    "#lgb_model.fit(X_train, y_train)\n",
    "#forest_model.fit(X_train, y_train)\n",
    "#bag_model.fit(X_train, y_train)"
   ]
  },
  {
   "cell_type": "code",
   "execution_count": 57,
   "metadata": {},
   "outputs": [],
   "source": [
    "prediction = tree_model.predict(X_test)"
   ]
  },
  {
   "cell_type": "code",
   "execution_count": 58,
   "metadata": {},
   "outputs": [],
   "source": [
    "from sklearn.metrics import mean_squared_error , accuracy_score"
   ]
  },
  {
   "cell_type": "code",
   "execution_count": 59,
   "metadata": {},
   "outputs": [
    {
     "data": {
      "text/plain": [
       "8278470159.239727"
      ]
     },
     "execution_count": 59,
     "metadata": {},
     "output_type": "execute_result"
    }
   ],
   "source": [
    "mean_squared_error(y_test,prediction)"
   ]
  },
  {
   "cell_type": "code",
   "execution_count": 60,
   "metadata": {},
   "outputs": [
    {
     "data": {
      "text/plain": [
       "263373     350.0\n",
       "126250     273.0\n",
       "216334    5000.0\n",
       "223892    5561.0\n",
       "19173      270.0\n",
       "211993     240.0\n",
       "142954    2163.0\n",
       "134552    1002.0\n",
       "2583      1500.0\n",
       "139290    1067.0\n",
       "Name: TotalClaimAmt, dtype: float64"
      ]
     },
     "execution_count": 60,
     "metadata": {},
     "output_type": "execute_result"
    }
   ],
   "source": [
    "y_test.head(10)"
   ]
  },
  {
   "cell_type": "code",
   "execution_count": 61,
   "metadata": {},
   "outputs": [
    {
     "data": {
      "text/plain": [
       "array([2406.34615385,   56.        , 5909.25229358, 5102.76923077,\n",
       "        269.5       ,  248.        , 4256.        ,  740.5       ,\n",
       "       1699.89928058, 3174.        ])"
      ]
     },
     "execution_count": 61,
     "metadata": {},
     "output_type": "execute_result"
    }
   ],
   "source": [
    "prediction[:10]"
   ]
  },
  {
   "cell_type": "code",
   "execution_count": 64,
   "metadata": {},
   "outputs": [
    {
     "data": {
      "text/plain": [
       "0.573017219636347"
      ]
     },
     "execution_count": 64,
     "metadata": {},
     "output_type": "execute_result"
    }
   ],
   "source": [
    "len(y_test[((y_test - prediction) / y_test * 100) < 1]) / len(y_test)"
   ]
  },
  {
   "cell_type": "code",
   "execution_count": 42,
   "metadata": {},
   "outputs": [
    {
     "name": "stderr",
     "output_type": "stream",
     "text": [
      "Using TensorFlow backend.\n"
     ]
    }
   ],
   "source": [
    "import keras\n",
    "from keras.models import Sequential\n",
    "from keras.layers import Dense"
   ]
  },
  {
   "cell_type": "code",
   "execution_count": 57,
   "metadata": {},
   "outputs": [],
   "source": [
    "def baseline_model():\n",
    "    # create model\n",
    "    model = Sequential()\n",
    "    model.add(Dense(13, input_dim=4, kernel_initializer='normal', activation='relu'))\n",
    "    model.add(Dense(12, kernel_initializer='normal'))\n",
    "    model.add(Dense(12, kernel_initializer='normal'))\n",
    "    model.add(Dense(1, kernel_initializer='normal'))\n",
    "    # Compile model\n",
    "    model.compile(loss='mean_squared_error', optimizer='adam')\n",
    "    return model"
   ]
  },
  {
   "cell_type": "code",
   "execution_count": 58,
   "metadata": {},
   "outputs": [],
   "source": [
    "from keras.wrappers.scikit_learn import KerasRegressor"
   ]
  },
  {
   "cell_type": "code",
   "execution_count": 59,
   "metadata": {},
   "outputs": [],
   "source": [
    "estimator = KerasRegressor(build_fn=baseline_model, nb_epoch=100, batch_size=5, verbose=0)"
   ]
  },
  {
   "cell_type": "code",
   "execution_count": 60,
   "metadata": {},
   "outputs": [
    {
     "data": {
      "text/plain": [
       "<keras.callbacks.History at 0x7ff14daeaa90>"
      ]
     },
     "execution_count": 60,
     "metadata": {},
     "output_type": "execute_result"
    }
   ],
   "source": [
    "estimator.fit(X_train,y_train)"
   ]
  },
  {
   "cell_type": "code",
   "execution_count": 61,
   "metadata": {},
   "outputs": [],
   "source": [
    "prediction = estimator.predict(X_test)"
   ]
  },
  {
   "cell_type": "code",
   "execution_count": 62,
   "metadata": {},
   "outputs": [
    {
     "data": {
      "text/plain": [
       "array([3461.4006, 3336.866 , 4855.0103,  912.6401, 3273.0027],\n",
       "      dtype=float32)"
      ]
     },
     "execution_count": 62,
     "metadata": {},
     "output_type": "execute_result"
    }
   ],
   "source": [
    "prediction[:5]"
   ]
  },
  {
   "cell_type": "code",
   "execution_count": 63,
   "metadata": {},
   "outputs": [
    {
     "data": {
      "text/plain": [
       "372087210.3189532"
      ]
     },
     "execution_count": 63,
     "metadata": {},
     "output_type": "execute_result"
    }
   ],
   "source": [
    "mean_squared_error(y_test,prediction)"
   ]
  }
 ],
 "metadata": {
  "kernelspec": {
   "display_name": "Python 3",
   "language": "python",
   "name": "python3"
  },
  "language_info": {
   "codemirror_mode": {
    "name": "ipython",
    "version": 3
   },
   "file_extension": ".py",
   "mimetype": "text/x-python",
   "name": "python",
   "nbconvert_exporter": "python",
   "pygments_lexer": "ipython3",
   "version": "3.6.4"
  }
 },
 "nbformat": 4,
 "nbformat_minor": 2
}
